{
 "cells": [
  {
   "cell_type": "markdown",
   "metadata": {},
   "source": [
    "# Python script for earthquakes in South America (up to 22.05.2018)"
   ]
  },
  {
   "cell_type": "markdown",
   "metadata": {},
   "source": [
    "First select the area and timeline you want, and import the data as a csv-file from: https://earthquake.usgs.gov/earthquakes/search/ \n",
    "\n",
    "By choosing **Advanced Options** you are able to specify longitude and latitude and choose other factors as you please. In the Advanced Options, choose **Event type as: Earthquake**. \n",
    "\n",
    "*The data chosen here is limited to magnitude 4.5>\n",
    "And between latitude: -55.361 to 7.995\n",
    "And longitude: -84.982 to -60.175* \n",
    "\n",
    "As **Output Options choose: CSV**. You may select the order of data by time from most recent to oldest or the other way around, or by magnitude from strongest to weakest or the other way around.\n",
    "\n",
    "Once you have made your selections, press: **Search. Save the opened page as a file**.\n",
    "\n",
    "*There is no need to try to clean the file, although it is relatively difficult to read in Excel or TextWrangler.* \n",
    "When reading the data into Jupyter or Spyder, use **Pandas**, as the file includes also lots of text. "
   ]
  },
  {
   "cell_type": "markdown",
   "metadata": {},
   "source": [
    "#### First import modules:"
   ]
  },
  {
   "cell_type": "code",
   "execution_count": 1,
   "metadata": {
    "collapsed": true
   },
   "outputs": [],
   "source": [
    "import pandas as pd\n",
    "import numpy as np\n",
    "import matplotlib.pyplot as plt"
   ]
  },
  {
   "cell_type": "markdown",
   "metadata": {},
   "source": [
    "**Import additional modules:**\n",
    "\n",
    "*Import **Basemap** in order to plot onto a map. First open a new Terminal window, and type: conda install Basemap. After installation you can import it.*\n",
    "\n",
    "*Import **colors** for scatter plots and colorbar.*\n",
    "\n",
    "*Import **cm** for cmap.*\n",
    "\n",
    "*Import **inset_axes** for positioning a background box for the legend.*\n",
    "\n",
    "*Import **Rectangle** for making a background box for the legend.*"
   ]
  },
  {
   "cell_type": "code",
   "execution_count": 2,
   "metadata": {
    "collapsed": true
   },
   "outputs": [],
   "source": [
    "from mpl_toolkits.basemap import Basemap\n",
    "from mpl_toolkits.axes_grid1.anchored_artists import AnchoredSizeBar\n",
    "from matplotlib import colors\n",
    "from matplotlib import cm\n",
    "from mpl_toolkits.axes_grid1.inset_locator import inset_axes\n",
    "from matplotlib.patches import Rectangle"
   ]
  },
  {
   "cell_type": "markdown",
   "metadata": {},
   "source": [
    "#### Set path to data:"
   ]
  },
  {
   "cell_type": "code",
   "execution_count": 3,
   "metadata": {
    "collapsed": true
   },
   "outputs": [],
   "source": [
    "fp = \"/Users/Nellimetiainen/Desktop/SA-earthquakes.csv\""
   ]
  },
  {
   "cell_type": "markdown",
   "metadata": {},
   "source": [
    "#### Set dataframe and datetime index:\n",
    "**Read it in as a csv-file, parse dates, determine the index column as time and separate columns with a comma.** "
   ]
  },
  {
   "cell_type": "code",
   "execution_count": 4,
   "metadata": {
    "collapsed": true
   },
   "outputs": [],
   "source": [
    "dataFrame = pd.read_csv(fp, parse_dates=True, index_col='time', sep=',')"
   ]
  },
  {
   "cell_type": "markdown",
   "metadata": {},
   "source": [
    "## Checking and testing data \n",
    "(Not neccessary)"
   ]
  },
  {
   "cell_type": "markdown",
   "metadata": {},
   "source": [
    "Check column names to select useful data:"
   ]
  },
  {
   "cell_type": "code",
   "execution_count": 5,
   "metadata": {},
   "outputs": [
    {
     "data": {
      "text/plain": [
       "Index(['latitude', 'longitude', 'depth', 'mag', 'magType', 'nst', 'gap',\n",
       "       'dmin', 'rms', 'net', 'id', 'updated', 'place', 'type',\n",
       "       'horizontalError', 'depthError', 'magError', 'magNst', 'status',\n",
       "       'locationSource', 'magSource'],\n",
       "      dtype='object')"
      ]
     },
     "execution_count": 5,
     "metadata": {},
     "output_type": "execute_result"
    }
   ],
   "source": [
    "dataFrame.columns"
   ]
  },
  {
   "cell_type": "markdown",
   "metadata": {},
   "source": [
    "Check datatypes to make sure everything is as it should be:"
   ]
  },
  {
   "cell_type": "code",
   "execution_count": 6,
   "metadata": {},
   "outputs": [
    {
     "data": {
      "text/plain": [
       "latitude           float64\n",
       "longitude          float64\n",
       "depth              float64\n",
       "mag                float64\n",
       "magType             object\n",
       "nst                float64\n",
       "gap                float64\n",
       "dmin               float64\n",
       "rms                float64\n",
       "net                 object\n",
       "id                  object\n",
       "updated             object\n",
       "place               object\n",
       "type                object\n",
       "horizontalError    float64\n",
       "depthError         float64\n",
       "magError           float64\n",
       "magNst             float64\n",
       "status              object\n",
       "locationSource      object\n",
       "magSource           object\n",
       "dtype: object"
      ]
     },
     "execution_count": 6,
     "metadata": {},
     "output_type": "execute_result"
    }
   ],
   "source": [
    "dataFrame.dtypes"
   ]
  },
  {
   "cell_type": "markdown",
   "metadata": {},
   "source": [
    "Find latitude and longitude bounds for earthquake data:"
   ]
  },
  {
   "cell_type": "code",
   "execution_count": 7,
   "metadata": {},
   "outputs": [
    {
     "name": "stdout",
     "output_type": "stream",
     "text": [
      "Minimum latitude: -55.361\n",
      "Maximum latitude: 7.995\n",
      "Minimum longitude: -84.982\n",
      "Maximum longitude: -60.175\n"
     ]
    }
   ],
   "source": [
    "print(\"Minimum latitude:\", dataFrame['latitude'].min())\n",
    "print(\"Maximum latitude:\", dataFrame['latitude'].max())\n",
    "print(\"Minimum longitude:\", dataFrame['longitude'].min())\n",
    "print(\"Maximum longitude:\", dataFrame['longitude'].max())"
   ]
  },
  {
   "cell_type": "markdown",
   "metadata": {},
   "source": [
    "Find minimum and maximum magnitude and depth:"
   ]
  },
  {
   "cell_type": "code",
   "execution_count": 8,
   "metadata": {},
   "outputs": [
    {
     "name": "stdout",
     "output_type": "stream",
     "text": [
      "Minimum magnitude: 4.5\n",
      "Maximum magnitude: 9.5\n",
      "Minumum depth: 0.0\n",
      "Maximum depth: 650.0\n"
     ]
    }
   ],
   "source": [
    "print(\"Minimum magnitude:\", dataFrame['mag'].min())\n",
    "print(\"Maximum magnitude:\", dataFrame['mag'].max())\n",
    "print(\"Minumum depth:\", dataFrame['depth'].min())\n",
    "print(\"Maximum depth:\", dataFrame['depth'].max())"
   ]
  },
  {
   "cell_type": "markdown",
   "metadata": {},
   "source": [
    "You can find the variables in memory using `%whos`:"
   ]
  },
  {
   "cell_type": "code",
   "execution_count": 9,
   "metadata": {},
   "outputs": [
    {
     "name": "stdout",
     "output_type": "stream",
     "text": [
      "Variable          Type         Data/Info\n",
      "----------------------------------------\n",
      "AnchoredSizeBar   type         <class 'mpl_toolkits.axes<...>artists.AnchoredSizeBar'>\n",
      "Basemap           type         <class 'mpl_toolkits.basemap.Basemap'>\n",
      "Rectangle         type         <class 'matplotlib.patches.Rectangle'>\n",
      "cm                module       <module 'matplotlib.cm' f<...>ckages/matplotlib/cm.py'>\n",
      "colors            module       <module 'matplotlib.color<...>es/matplotlib/colors.py'>\n",
      "dataFrame         DataFrame                             <...>[18493 rows x 21 columns]\n",
      "fp                str          /Users/Nellimetiainen/Desktop/SA-earthquakes.csv\n",
      "inset_axes        function     <function inset_axes at 0x119a542f0>\n",
      "np                module       <module 'numpy' from '/Us<...>kages/numpy/__init__.py'>\n",
      "pd                module       <module 'pandas' from '/U<...>ages/pandas/__init__.py'>\n",
      "plt               module       <module 'matplotlib.pyplo<...>es/matplotlib/pyplot.py'>\n"
     ]
    }
   ],
   "source": [
    "%whos"
   ]
  },
  {
   "cell_type": "markdown",
   "metadata": {},
   "source": [
    "# Plotting data"
   ]
  },
  {
   "cell_type": "markdown",
   "metadata": {},
   "source": [
    "## Tests \n",
    "(First plots are not necessary)"
   ]
  },
  {
   "cell_type": "markdown",
   "metadata": {},
   "source": [
    "[Test plots](Test plots SA earthquakes.ipynb)"
   ]
  },
  {
   "cell_type": "markdown",
   "metadata": {},
   "source": [
    "# Make new columns to organize data by value:\n",
    "\n",
    "#### Separate columns for different depth & magnitude categories"
   ]
  },
  {
   "cell_type": "code",
   "execution_count": 13,
   "metadata": {
    "collapsed": true
   },
   "outputs": [],
   "source": [
    "# Depths:\n",
    "dataFrame['Deep'] = dataFrame['depth'].loc[(dataFrame['depth'] >= 300.01) & (dataFrame['depth'] <= 700.00)]\n",
    "dataFrame['Intermediate'] = dataFrame['depth'].loc[(dataFrame['depth'] >= 70.01) & (dataFrame['depth'] <= 300.00)]\n",
    "dataFrame['Shallow'] = dataFrame['depth'].loc[(dataFrame['depth'] >= 0.00) & (dataFrame['depth'] <= 70.00)]\n",
    "\n",
    "# Magnitudes:\n",
    "dataFrame['Light'] = dataFrame['mag'].loc[(dataFrame['mag'] >= 4.5) & (dataFrame['mag'] <= 4.9)]\n",
    "dataFrame['Moderate'] = dataFrame['mag'].loc[(dataFrame['mag'] >= 5.0) & (dataFrame['mag'] <= 5.9)]\n",
    "dataFrame['Strong'] = dataFrame['mag'].loc[(dataFrame['mag'] >= 6.0) & (dataFrame['mag'] <= 6.9)]\n",
    "dataFrame['Major'] = dataFrame['mag'].loc[(dataFrame['mag'] >= 7.0) & (dataFrame['mag'] <= 7.9)]\n",
    "dataFrame['Great'] = dataFrame['mag'].loc[(dataFrame['mag'] >= 8.0) & (dataFrame['mag'] <= 10)]\n",
    "\n",
    "# All earthquakes with a magnitude of over 6:\n",
    "dataFrame['Mag over 6'] = dataFrame['mag'].loc[(dataFrame['mag'] >= 6.0) & (dataFrame['mag'] <= 10)]"
   ]
  },
  {
   "cell_type": "markdown",
   "metadata": {},
   "source": [
    "#### New columns for deepest earthquakes for each 100 m"
   ]
  },
  {
   "cell_type": "code",
   "execution_count": 14,
   "metadata": {
    "collapsed": true
   },
   "outputs": [],
   "source": [
    "dataFrame['300'] = dataFrame['depth'].loc[(dataFrame['depth'] >= 300.00) & (dataFrame['depth'] <= 399.99)]\n",
    "dataFrame['400'] = dataFrame['depth'].loc[(dataFrame['depth'] >= 400.00) & (dataFrame['depth'] <= 499.99)]\n",
    "dataFrame['500'] = dataFrame['depth'].loc[(dataFrame['depth'] >= 500.00) & (dataFrame['depth'] <= 599.99)]\n",
    "dataFrame['600'] = dataFrame['depth'].loc[(dataFrame['depth'] >= 600.00) & (dataFrame['depth'] <= 650.00)]"
   ]
  },
  {
   "cell_type": "code",
   "execution_count": 15,
   "metadata": {},
   "outputs": [
    {
     "name": "stdout",
     "output_type": "stream",
     "text": [
      "Minumum depth: 308.4\n",
      "Maximum depth: 363.6\n",
      "Minumum depth: 429.6\n",
      "Maximum depth: 436.5\n",
      "Minumum depth: 500.0\n",
      "Maximum depth: 599.9\n",
      "Minumum depth: 600.0\n",
      "Maximum depth: 650.0\n"
     ]
    }
   ],
   "source": [
    "print(\"Minumum depth:\", dataFrame['300'].min())\n",
    "print(\"Maximum depth:\", dataFrame['300'].max())\n",
    "print(\"Minumum depth:\", dataFrame['400'].min())\n",
    "print(\"Maximum depth:\", dataFrame['400'].max())\n",
    "print(\"Minumum depth:\", dataFrame['500'].min())\n",
    "print(\"Maximum depth:\", dataFrame['500'].max())\n",
    "print(\"Minumum depth:\", dataFrame['600'].min())\n",
    "print(\"Maximum depth:\", dataFrame['600'].max())"
   ]
  },
  {
   "cell_type": "markdown",
   "metadata": {},
   "source": [
    "#### Check dataframe, that new columns have been registered & that their type is correct "
   ]
  },
  {
   "cell_type": "code",
   "execution_count": 16,
   "metadata": {},
   "outputs": [
    {
     "data": {
      "text/plain": [
       "Index(['latitude', 'longitude', 'depth', 'mag', 'magType', 'nst', 'gap',\n",
       "       'dmin', 'rms', 'net', 'id', 'updated', 'place', 'type',\n",
       "       'horizontalError', 'depthError', 'magError', 'magNst', 'status',\n",
       "       'locationSource', 'magSource', 'Deep', 'Intermediate', 'Shallow',\n",
       "       'Light', 'Moderate', 'Strong', 'Major', 'Great', 'Mag over 6', '300',\n",
       "       '400', '500', '600'],\n",
       "      dtype='object')"
      ]
     },
     "execution_count": 16,
     "metadata": {},
     "output_type": "execute_result"
    }
   ],
   "source": [
    "dataFrame.columns"
   ]
  },
  {
   "cell_type": "code",
   "execution_count": 17,
   "metadata": {},
   "outputs": [
    {
     "data": {
      "text/plain": [
       "latitude           float64\n",
       "longitude          float64\n",
       "depth              float64\n",
       "mag                float64\n",
       "magType             object\n",
       "nst                float64\n",
       "gap                float64\n",
       "dmin               float64\n",
       "rms                float64\n",
       "net                 object\n",
       "id                  object\n",
       "updated             object\n",
       "place               object\n",
       "type                object\n",
       "horizontalError    float64\n",
       "depthError         float64\n",
       "magError           float64\n",
       "magNst             float64\n",
       "status              object\n",
       "locationSource      object\n",
       "magSource           object\n",
       "Deep               float64\n",
       "Intermediate       float64\n",
       "Shallow            float64\n",
       "Light              float64\n",
       "Moderate           float64\n",
       "Strong             float64\n",
       "Major              float64\n",
       "Great              float64\n",
       "Mag over 6         float64\n",
       "300                float64\n",
       "400                float64\n",
       "500                float64\n",
       "600                float64\n",
       "dtype: object"
      ]
     },
     "execution_count": 17,
     "metadata": {},
     "output_type": "execute_result"
    }
   ],
   "source": [
    "dataFrame.dtypes"
   ]
  },
  {
   "cell_type": "markdown",
   "metadata": {},
   "source": [
    "# MAIN CODE\n",
    "\n",
    "Make plots for each month of each year showing the earthquake magnitudes on scatter plot and depths and amount as barplot. Loop earthquakes for each year."
   ]
  },
  {
   "cell_type": "code",
   "execution_count": null,
   "metadata": {
    "collapsed": true
   },
   "outputs": [],
   "source": [
    "# Set figure size:\n",
    "plt.rcParams['figure.figsize'] = [12,12]\n",
    "# Set path for saving images:\n",
    "savepath=\"/Users/Nellimetiainen/Desktop/a/\"\n",
    "\n",
    "#### Set up for bar plot:\n",
    "\n",
    "# Make a bar every 2 degrees latitude:\n",
    "barIncrement = 2\n",
    "barBins= np.arange(8, -56, -barIncrement)\n",
    "# Determine the length of bars:\n",
    "numBars = len(barBins)\n",
    "# Separate different depth earthquakes:\n",
    "shallowCount = np.zeros(numBars)\n",
    "intermediateCount = np.zeros(numBars)\n",
    "deepCount = np.zeros(numBars)\n",
    "\n",
    "# For a running value text box with the month and year displayed, assign names for values for 'months':\n",
    "months = {1: 'Jan', 2: 'Feb', 3: 'Mar', 4: 'Apr', 5: 'May', 6: 'Jun', 7: 'Jul', 8: 'Aug', 9: 'Sep', 10: 'Oct', 11: 'Nov', 12: 'Dec'}\n",
    "\n",
    "# Select time range: first line years, second line months:\n",
    "# Loop data  \n",
    "for year in range(1960, 2018):\n",
    "    for month in range(1, 13):\n",
    "        currentMonth = str(month)+\"-\"+str(year)\n",
    "        selectedMonth = dataFrame[currentMonth]\n",
    "        \n",
    "# Set up figure for subplots:\n",
    "        f, ax = plt.subplots(nrows=1, ncols=2)\n",
    "\n",
    "# Title for whole figure:\n",
    "        plt.suptitle('Earthquakes in South America 1960-2017', fontweight='bold')\n",
    "\n",
    "# Make bar plot (set axis, load values):\n",
    "        for i in range(numBars):\n",
    "            numShallow = selectedMonth['Shallow'].loc[(selectedMonth['latitude'] > barBins[i]-barIncrement) & (selectedMonth['latitude'] <= barBins[i])].count()\n",
    "            shallowCount[i] = shallowCount[i] + numShallow\n",
    "            \n",
    "            numIntermediate = selectedMonth['Intermediate'].loc[(selectedMonth['latitude'] > barBins[i]-barIncrement) & (selectedMonth['latitude'] <= barBins[i])].count()\n",
    "            intermediateCount[i] = intermediateCount[i] + numIntermediate\n",
    "            \n",
    "            numDeep = selectedMonth['Deep'].loc[(selectedMonth['latitude'] > barBins[i]-barIncrement) & (selectedMonth['latitude'] <= barBins[i])].count()\n",
    "            deepCount[i] = deepCount[i] + numDeep\n",
    "# Plot bars:\n",
    "        ax[0].barh(y=barBins-(barIncrement/2), width=shallowCount, label='0 - 70 km', color='r', alpha = 0.4)\n",
    "        ax[0].barh(y=barBins-(barIncrement/2), width=intermediateCount, left=shallowCount, label='70 - 300 km', color='g', alpha = 0.4) \n",
    "        ax[0].barh(y=barBins-(barIncrement/2), width=deepCount, left=shallowCount+intermediateCount, label='300 - 670 km', color='b', alpha = 0.4)\n",
    "\n",
    "# Determine total count and scale limits:\n",
    "        totalCount = shallowCount + intermediateCount + deepCount\n",
    "        fewQuakes = 50\n",
    "        someQuakes = 100\n",
    "        intQuakes = 200\n",
    "        medQuakes = 500\n",
    "        manyQuakes = 1000\n",
    "        allQuakes = 1700\n",
    "# Determine limits & scalejumps & indicate scalejumps with changing x_label color if necessary (here all black):\n",
    "        if totalCount.max() < fewQuakes:\n",
    "            ax[0].set_xlim(fewQuakes,0)\n",
    "            ax[0].set_xticks(np.arange(0,fewQuakes+1,10))\n",
    "            ax[0].set_xlabel('Number of earthquakes', color='black')\n",
    "        elif totalCount.max() < someQuakes:\n",
    "            ax[0].set_xlim(someQuakes,0)\n",
    "            ax[0].set_xticks(np.arange(0,someQuakes+1,20))\n",
    "            ax[0].set_xlabel('Number of earthquakes', color='black')\n",
    "        elif totalCount.max() < intQuakes:\n",
    "            ax[0].set_xlim(intQuakes,0)\n",
    "            ax[0].set_xticks(np.arange(0,intQuakes+1,20))\n",
    "            ax[0].set_xlabel('Number of earthquakes', color='black')\n",
    "        elif totalCount.max() < medQuakes:\n",
    "            ax[0].set_xlim(medQuakes,0)\n",
    "            ax[0].set_xticks(np.arange(0,medQuakes+1,50))\n",
    "            ax[0].set_xlabel('Number of earthquakes', color='black')\n",
    "        elif totalCount.max() < manyQuakes:\n",
    "            ax[0].set_xlim(manyQuakes,0)\n",
    "            ax[0].set_xticks(np.arange(0,manyQuakes+1,100))\n",
    "            ax[0].set_xlabel('Number of earthquakes', color='black')\n",
    "        else:\n",
    "            ax[0].set_xlim(allQuakes, 0)\n",
    "            ax[0].set_xticks(np.arange(0,allQuakes+1,200))\n",
    "            ax[0].set_xlabel('Number of earthquakes', color='black')\n",
    "\n",
    "# Add grid:\n",
    "        ax[0].grid(axis='x')\n",
    "\n",
    "# Add titles for bar plot:\n",
    "        ax[0].set_title('Amount of earthquakes according to depth', color='blue')\n",
    "        ax[0].set_ylabel('Latitude', color='blue')\n",
    "\n",
    "# Add legend and assign location:\n",
    "        ax[0].legend(loc = 3, title='Depth range')\n",
    "\n",
    "#### Make map figure on the right side of the barplot to plot earthquake locations and magnitudes:\n",
    "# Setup Lambert Conformal basemap:\n",
    "# Set resolution=None to skip processing of boundary datasets:\n",
    "        m = Basemap(width=4000000,height=9000000,projection='cyl',\n",
    "            resolution='c',lat_1=-20,lat_2=-30,lat_0=-25,lon_0=-75,llcrnrlat=-58,urcrnrlat=10,\n",
    "            llcrnrlon=-90,urcrnrlon=-60)\n",
    "\n",
    "# Add borders or shoreline (take off #):\n",
    "        #m.drawcountries()\n",
    "        #m.drawcoastlines()\n",
    "\n",
    "# Import topography map - to change colour intensity set alpha to wanted level:\n",
    "        m.arcgisimage(service='World_Physical_Map')\n",
    "\n",
    "# Set axis:\n",
    "        lon,lat = m(selectedMonth[\"longitude\"].values, selectedMonth[\"latitude\"].values)\n",
    "\n",
    "# Make scatter plot. s=size of points, c=color, cmap determines chosen colorbar colors, alpha makes points less opaque, edgecolors determines the color of point edges:    \n",
    "        plot1 = plt.scatter(lon, lat, s=0.0001*selectedMonth[\"mag\"]**8, c=selectedMonth[\"mag\"], cmap='plasma_r', alpha=0.5, edgecolors='black')\n",
    "\n",
    "# Set grid for parallels and meridians:\n",
    "        x, y = m(*np.meshgrid(lon,lat))\n",
    "        parallels = np.arange(-80.,81.,10.)\n",
    "        meridians = np.arange(10.,351.,10.)\n",
    "\n",
    "# Set labels [left,right,top,bottom] for parallels and meridians:\n",
    "        m.drawparallels(parallels,labels=[True,False,True,True])\n",
    "        m.drawmeridians(meridians,labels=[False,False,False,True])\n",
    "\n",
    "# Add titles for whole plot and x & y:\n",
    "        ax[1].set_title('Earthquake locations and magnitudes in {0:d}'.format(year), color='blue')\n",
    "        ax[1].set_xlabel('Longitude', color='blue')\n",
    "        ax[1].set_ylabel('Latitude', color='blue')\n",
    "   \n",
    "# Specify colors:\n",
    "        cmap = cm.get_cmap('plasma', 7)\n",
    "# Create bounds for colorbar (min and max values for magnitude, and the number of separate values displayed):\n",
    "        bounds = np.linspace(4, 10, 7)\n",
    "        plot1.set_clim(4.5, 9.5)\n",
    "# Make a white box background (determine height and width, location and padding at edges:\n",
    "# Assign spines and ticks, choose color:\n",
    "        cbbox = inset_axes(ax[1], '27%', '35%', loc = 6, borderpad=0.9)\n",
    "        [cbbox.spines[k].set_visible(False) for k in cbbox.spines]\n",
    "        cbbox.tick_params(axis='both', left='off', top='off', right='off', bottom='off', labelleft='off', labeltop='off', labelright='off', labelbottom='off')\n",
    "        cbbox.set_facecolor([1,1,1,0.7])\n",
    "# Set axins:\n",
    "        axins1 = inset_axes(ax[1], width=\"10%\", height=\"30%\", loc=6, borderpad=2)\n",
    "# Create colorbar:\n",
    "        cbar = plt.colorbar(cax=axins1, cmap=cmap, orientation=\"vertical\", boundaries=bounds)\n",
    "# Add colorbar label:\n",
    "        cbar.set_label('Magnitude', color='blue')\n",
    "\n",
    "\n",
    "#### Not neccessary: #######################################################\n",
    "# Make a scale bar for the map:\n",
    "        #scalebar = AnchoredSizeBar(ax[1].transData,\n",
    "                           #5, 'distance', 'lower left', \n",
    "                           #pad=1,\n",
    "                           #color='black',\n",
    "                           #frameon=False,\n",
    "                           #size_vertical=0.2)\n",
    "\n",
    "        #ax[1].add_artist(scalebar)\n",
    "\n",
    "# Make a North arrow for map:\n",
    "       #plot1.annotate('N', xy = (-85, -40), xytext=(-86.5, -50), color='r', size=30, arrowprops=dict(arrowstyle=\"fancy\", color='r'))\n",
    "\n",
    "##########################################################################\n",
    "\n",
    "# Print month and year onto figure into a color box:\n",
    "# Note: We first need to convert the lon, lat to the projected values:\n",
    "        textLon, textLat = m(-88.5, -38)\n",
    "        ax[1].text(textLon, textLat, months[month]+\" \"+str(year), fontsize=15,\n",
    "        name='Courier New',\n",
    "        bbox={'facecolor':'white', 'edgecolor':'none', 'alpha':0.7, 'pad':5})\n",
    "\n",
    "# Make plots fill the whole figure:\n",
    "       #plt.tight_layout(w_pad=10)\n",
    "\n",
    "# Make space between main title and plots:\n",
    "        plt.subplots_adjust(top=0.94)\n",
    "\n",
    "# Save figure as picture and assign where to save:\n",
    "        plotFile = str(year) + \"-\" + str(month) + \".png\"\n",
    "        plt.savefig(savepath+plotFile)\n",
    "\n",
    "# Save memory and avoid computer crashing by not opening all the figures in the loop:\n",
    "        plt.close(\"all\")"
   ]
  },
  {
   "cell_type": "markdown",
   "metadata": {},
   "source": [
    "# CROSS SECTION VERSIONS"
   ]
  },
  {
   "cell_type": "markdown",
   "metadata": {},
   "source": [
    "[Cross section version](Cross section versions SA earthquakes.ipynb)"
   ]
  },
  {
   "cell_type": "markdown",
   "metadata": {},
   "source": [
    "# Other versions:"
   ]
  },
  {
   "cell_type": "markdown",
   "metadata": {},
   "source": [
    "[All earthquakes](All earthquakes SA.ipynb)"
   ]
  },
  {
   "cell_type": "markdown",
   "metadata": {},
   "source": [
    "[By depth](By depth.ipynb)"
   ]
  },
  {
   "cell_type": "markdown",
   "metadata": {},
   "source": [
    "[By magnitude](SA earthquakes by magnitude.ipynb)"
   ]
  },
  {
   "cell_type": "markdown",
   "metadata": {},
   "source": [
    "## Short cut (for testing changes on map)"
   ]
  },
  {
   "cell_type": "markdown",
   "metadata": {},
   "source": [
    "[Testing version for map](Testing version for SA eq map.ipynb)"
   ]
  }
 ],
 "metadata": {
  "kernelspec": {
   "display_name": "Python 3",
   "language": "python",
   "name": "python3"
  },
  "language_info": {
   "codemirror_mode": {
    "name": "ipython",
    "version": 3
   },
   "file_extension": ".py",
   "mimetype": "text/x-python",
   "name": "python",
   "nbconvert_exporter": "python",
   "pygments_lexer": "ipython3",
   "version": "3.6.1"
  }
 },
 "nbformat": 4,
 "nbformat_minor": 2
}
